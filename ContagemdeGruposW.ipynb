{
 "metadata": {
  "language_info": {
   "codemirror_mode": {
    "name": "ipython",
    "version": 3
   },
   "file_extension": ".py",
   "mimetype": "text/x-python",
   "name": "python",
   "nbconvert_exporter": "python",
   "pygments_lexer": "ipython3",
   "version": "3.9.1-final"
  },
  "orig_nbformat": 2,
  "kernelspec": {
   "name": "python3",
   "display_name": "Python 3.9.1 64-bit ('wappenv')",
   "metadata": {
    "interpreter": {
     "hash": "fd16e3b720838474476eba5ef907c6c93099cff6aa24ea38ef1b65f026d23308"
    }
   }
  }
 },
 "nbformat": 4,
 "nbformat_minor": 2,
 "cells": [
  {
   "source": [
    "# Rotinas para Controle e manutenção de Grupos de WhatsApp "
   ],
   "cell_type": "markdown",
   "metadata": {}
  },
  {
   "cell_type": "code",
   "execution_count": 1,
   "metadata": {},
   "outputs": [],
   "source": [
    "import pandas as pd\n",
    "import time\n",
    "\n",
    "from datetime import datetime"
   ]
  },
  {
   "source": [
    "# Ativar browser CHROMEDRIVER e autenticar QR Code do WhatsApp"
   ],
   "cell_type": "markdown",
   "metadata": {}
  },
  {
   "cell_type": "code",
   "execution_count": 2,
   "metadata": {},
   "outputs": [],
   "source": [
    "#Personalisados (GrupoFramework: Funções de apoio a gerencia de grupos de Whatsapp via web)\n",
    "from LoadBrowser import *\n",
    "from NavBrowser  import *\n"
   ]
  },
  {
   "cell_type": "code",
   "execution_count": null,
   "metadata": {},
   "outputs": [],
   "source": [
    "driver = InicioBrowser()\n",
    "driver"
   ]
  },
  {
   "source": [
    "# Data de registro da contagem de participantes\n",
    "Será usado para criar a planilha com o resultado \n",
    "Geralmente faço uma contagem por dia e acumulo os dados para criação de dados e gráficos"
   ],
   "cell_type": "markdown",
   "metadata": {}
  },
  {
   "cell_type": "code",
   "execution_count": null,
   "metadata": {},
   "outputs": [],
   "source": [
    "myDate = datetime.today()\n",
    "myDate = myDate.strftime(\"%d/%m/%y %H:%M:%S\")\n",
    "myDate"
   ]
  },
  {
   "source": [
    "# Importar lista de grupos "
   ],
   "cell_type": "markdown",
   "metadata": {}
  },
  {
   "source": [
    "Formato:\n",
    "--------\n",
    "Novo/ Antigo/ Link\n",
    "\n",
    "Sendo:\n",
    "Novo - Nome do grupo<br>\n",
    "Antigo - Nome antigo que será trocado pelo NOVO caso dispare o comando de troca<br>\n",
    "Link - Link de entrada para o grupo<br>\n",
    "\n"
   ],
   "cell_type": "markdown",
   "metadata": {}
  },
  {
   "cell_type": "code",
   "execution_count": null,
   "metadata": {},
   "outputs": [],
   "source": [
    "dfGrupos = pd.read_csv('C:\\\\Users\\\\jandi\\\\Desktop\\\\Projeto Batalha Espiritual\\\\Lista de Grupos de WhatsApp - Página1.csv')"
   ]
  },
  {
   "cell_type": "code",
   "execution_count": null,
   "metadata": {},
   "outputs": [],
   "source": [
    "start_time = time.time()\n",
    "\n",
    "lCount = [] \n",
    "lLinks = [] # Array com links de cada grupo\n",
    "nCount = 0 # Quantidade de participantes no grupo\n",
    "nSleep = 0.5 # Espera entre cada acesso\n",
    "\n",
    "#Controla função de ler links dos grupos \n",
    "#Caso seja necessário atualizar dados da campanha do Joinzapp\n",
    "bLerLinks = False\n",
    "\n",
    "lGrupos = dfGrupos['Novo']\n",
    "\n",
    "for sGrupo in lGrupos:\n",
    "    #Caixa de busca com argumento de nome do grupo para diminuir o div que é dinâmico, \n",
    "    #assim podemos acessar diretamente o grupo desejado\n",
    "    search_box = AcharElemento(driver, '/html/body/div[1]/div/div/div[3]/div/div[1]/div/label/div/div[2]')\n",
    "    if search_box == 'ElementoNaoEncontrado':\n",
    "        print('Grupo não encontrado! [' + sGrupo + ']')\n",
    "        continue\n",
    "    search_box.clear()\n",
    "    search_box.send_keys(sGrupo)\n",
    "    time.sleep(nSleep)       \n",
    "\n",
    "    #Seleciona o grupo da lista\n",
    "    sGruponaLista = AcharElemento(driver, '//*[@title=\"' + sGrupo + '\"]') \n",
    "    if sGruponaLista == 'ElementoNaoEncontrado':\n",
    "        print('Grupo não encontrado! [' + sGrupo + ']')\n",
    "        continue\n",
    "    sGruponaLista.click()\n",
    "    time.sleep(nSleep)\n",
    "\n",
    "    #Clica no nome do grupo para abrir a aba de dados\n",
    "    oNomedoGrupo = AcharElemento(driver, '/html/body/div[1]/div/div/div[4]/div/header/div[2]/div[1]/div/span') \n",
    "    if oNomedoGrupo == 'ElementoNaoEncontrado':\n",
    "        print('Grupo não encontrado! [' + sGrupo + ']')\n",
    "        continue\n",
    "    oNomedoGrupo.click()\n",
    "    time.sleep(nSleep)\n",
    "    \n",
    "    #Le a quantidade de pessoas no grupo\n",
    "    sCount = AcharElemento(driver, '//*[@id=\"app\"]/div/div/div[2]/div[3]/span/div/span/div/div/div[1]/div[5]/div[1]/div/div/div[1]/span')\n",
    "    if sCount == 'ElementoNaoEncontrado':\n",
    "        print('Quantidade de participantes não encontrada! [' + sGrupo + ']')\n",
    "        continue\n",
    "    \n",
    "    sCount = sCount.text\n",
    "    time.sleep(nSleep)\n",
    "\n",
    "    if bLerLinks:\n",
    "        #Le o link do grupo\n",
    "        #Acrescentei o link aqui para controle do cadastro da ferramenta Joinzapp que faz administração de vários grupos\n",
    "        sLink = AcharElemento(driver, '/html/body/div[1]/div/div/div[2]/div[3]/span/div/span/div/div/div[1]/div[5]/div[3]/div[2]')  \n",
    "        if sLink == 'ElementoNaoEncontrado':\n",
    "            print('Link do grupo não encontrado! [' + sGrupo + ']')\n",
    "            continue\n",
    "        sLink.click()\n",
    "\n",
    "        sLink = AcharElemento(driver, '/html/body/div[1]/div/div/div[2]/div[3]/span/div/span/div/div/div[1]/div[2]/div[2]/div/span/a')\n",
    "        if sLink == 'ElementoNaoEncontrado':\n",
    "            print('Link do grupo não encontrado! [' + sGrupo + ']')\n",
    "            continue\n",
    "\n",
    "        sLink = sLink.text()    \n",
    "        time.sleep(nSleep)\n",
    "        lLinks.append(sLink)\n",
    "\n",
    "    nCount = [int(algarismo) for algarismo in sCount.split() if algarismo.isdigit()][0]\n",
    "    lCount.append(nCount)\n",
    "\n",
    "print(\"--- %s minutes ---\" % ( round( ((time.time() - start_time)/60), 2) ))"
   ]
  },
  {
   "cell_type": "code",
   "execution_count": null,
   "metadata": {},
   "outputs": [],
   "source": [
    "dData = {\n",
    "    'data': myDate,\n",
    "    'grupos': lGrupos, \n",
    "    'participantes': lCount\n",
    "}"
   ]
  },
  {
   "cell_type": "code",
   "execution_count": null,
   "metadata": {},
   "outputs": [],
   "source": [
    "QtdeParticipantesPorGrupo = pd.DataFrame(dData)\n",
    "\n",
    "if bLerLinks:\n",
    "    QtdeParticipantesPorGrupo['Links'] = lLinks"
   ]
  },
  {
   "source": [
    "# Verificar total de participantes em todos os grupos"
   ],
   "cell_type": "markdown",
   "metadata": {}
  },
  {
   "cell_type": "code",
   "execution_count": null,
   "metadata": {},
   "outputs": [],
   "source": [
    "QtdeParticipantesPorGrupo['participantes'].sum()"
   ]
  },
  {
   "source": [
    "# Exportar dataframe para planilha em Excel"
   ],
   "cell_type": "markdown",
   "metadata": {}
  },
  {
   "cell_type": "code",
   "execution_count": null,
   "metadata": {},
   "outputs": [],
   "source": [
    "with pd.ExcelWriter('output.xlsx') as writer: \n",
    "     QtdeParticipantesPorGrupo.to_excel(writer, sheet_name='PartipantesGrupo')"
   ]
  }
 ]
}