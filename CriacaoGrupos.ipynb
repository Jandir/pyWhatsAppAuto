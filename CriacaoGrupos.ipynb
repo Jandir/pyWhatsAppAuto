{
 "metadata": {
  "language_info": {
   "codemirror_mode": {
    "name": "ipython",
    "version": 3
   },
   "file_extension": ".py",
   "mimetype": "text/x-python",
   "name": "python",
   "nbconvert_exporter": "python",
   "pygments_lexer": "ipython3",
   "version": "3.9.0-final"
  },
  "orig_nbformat": 2,
  "kernelspec": {
   "name": "python3",
   "display_name": "Python 3.9.0 64-bit ('autoenv')",
   "metadata": {
    "interpreter": {
     "hash": "16a34ffd4c8d78c475b4ed33336d7354689c5309151c3aee5683fdcba370449d"
    }
   }
  }
 },
 "nbformat": 4,
 "nbformat_minor": 2,
 "cells": [
  {
   "cell_type": "code",
   "execution_count": 9,
   "metadata": {},
   "outputs": [],
   "source": [
    "import time\n",
    "from selenium import webdriver\n",
    "from selenium.webdriver.common.keys import Keys"
   ]
  },
  {
   "cell_type": "code",
   "execution_count": 8,
   "metadata": {},
   "outputs": [
    {
     "output_type": "stream",
     "name": "stdout",
     "text": [
      "Collecting selenium\n  Using cached https://files.pythonhosted.org/packages/80/d6/4294f0b4bce4de0abf13e17190289f9d0613b0a44e5dd6a7f5ca98459853/selenium-3.141.0-py2.py3-none-any.whl\nRequirement already satisfied: urllib3 in c:\\users\\jandi\\anaconda3\\lib\\site-packages (from selenium) (1.24.2)\nInstalling collected packages: selenium\nSuccessfully installed selenium-3.141.0\n"
     ]
    }
   ],
   "source": [
    "!pip install selenium"
   ]
  },
  {
   "cell_type": "code",
   "execution_count": 10,
   "metadata": {},
   "outputs": [],
   "source": [
    "def site_login():\n",
    "    driver.get('https://www.google.com/accounts/Login')\n",
    "    driver.find_element_by_id('identifierId').send_keys('digise7e@gmail.com')\n",
    "    driver.find_element_by_id('identifierNext').click()\n",
    "    driver.find_element_by_id ('Password').send_keys('gm@+Global21Action')\n",
    "    driver.find_element_by_id('identifierNext').click()"
   ]
  },
  {
   "cell_type": "code",
   "execution_count": null,
   "metadata": {},
   "outputs": [],
   "source": [
    "driver = webdriver.Chrome()  # Optional argument, if not specified will search path."
   ]
  },
  {
   "cell_type": "code",
   "execution_count": 11,
   "metadata": {},
   "outputs": [],
   "source": [
    "driver.get(\"https://web.whatsapp.com\")"
   ]
  },
  {
   "cell_type": "code",
   "execution_count": 12,
   "metadata": {},
   "outputs": [
    {
     "output_type": "stream",
     "name": "stdout",
     "text": [
      "WhatsApp\n"
     ]
    }
   ],
   "source": [
    "print(driver.title)"
   ]
  },
  {
   "cell_type": "code",
   "execution_count": 25,
   "metadata": {},
   "outputs": [
    {
     "output_type": "stream",
     "name": "stdout",
     "text": [
      "<selenium.webdriver.remote.webelement.WebElement (session=\"a60421e37dba6b833b86769b39156210\", element=\"799c6724-d095-4e9e-99b0-76bc1698c640\")>\n"
     ]
    }
   ],
   "source": [
    "objeto = driver.find_element_by_xpath('//*[@title=\"Mais opções\"]')\n",
    "objeto.click()\n",
    "driver.find_element_by_xpath('//*[@title=\"Novo grupo\"]').click()\n",
    "#search_bar.click()\n",
    "\n",
    "print(objeto)"
   ]
  },
  {
   "cell_type": "code",
   "execution_count": 39,
   "metadata": {},
   "outputs": [],
   "source": [
    "driver.find_element_by_xpath('//*[@placeholder=\"Digite nome do contato\"]').clear()\n",
    "driver.find_element_by_xpath('//*[@placeholder=\"Digite nome do contato\"]').send_keys('Jandir')\n"
   ]
  },
  {
   "cell_type": "code",
   "execution_count": 41,
   "metadata": {},
   "outputs": [],
   "source": [
    "driver.find_element_by_xpath('//*[@title=\"Jandir\"]').click()\n"
   ]
  },
  {
   "cell_type": "code",
   "execution_count": 43,
   "metadata": {},
   "outputs": [],
   "source": [
    "driver.find_element_by_xpath('//*[@data-testid=\"arrow-forward\"]').click()\n"
   ]
  },
  {
   "cell_type": "code",
   "execution_count": 44,
   "metadata": {},
   "outputs": [],
   "source": [
    "driver.find_element_by_xpath('//*[@class=\"_1awRl copyable-text selectable-text\"]').send_keys('Intercessão Profética 16')"
   ]
  },
  {
   "cell_type": "code",
   "execution_count": null,
   "metadata": {},
   "outputs": [],
   "source": [
    "driver.find_element_by_xpath('//*[@data-testid=\"checkmark-medium\"]').click()"
   ]
  }
 ]
}