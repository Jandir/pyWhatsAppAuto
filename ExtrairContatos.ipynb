{
 "metadata": {
  "language_info": {
   "codemirror_mode": {
    "name": "ipython",
    "version": 3
   },
   "file_extension": ".py",
   "mimetype": "text/x-python",
   "name": "python",
   "nbconvert_exporter": "python",
   "pygments_lexer": "ipython3",
   "version": "3.9.1-final"
  },
  "orig_nbformat": 2,
  "kernelspec": {
   "name": "python3",
   "display_name": "Python 3.9.1 64-bit ('gruposenv')",
   "metadata": {
    "interpreter": {
     "hash": "afd604db5415a18e2569fe3d78f4d76ebabc4fc6ddd9978a86b9f404ef27567e"
    }
   }
  }
 },
 "nbformat": 4,
 "nbformat_minor": 2,
 "cells": [
  {
   "cell_type": "code",
   "execution_count": 81,
   "metadata": {},
   "outputs": [],
   "source": [
    "import pandas as pd\n",
    "import re"
   ]
  },
  {
   "cell_type": "code",
   "execution_count": 120,
   "metadata": {},
   "outputs": [],
   "source": [
    "def parse_file(nTotalFiles):\n",
    "\n",
    "    '''Convert WhatsApp chat log text file to a Pandas dataframe.'''\n",
    "\n",
    "    dfTotal = pd.DataFrame(columns=['timestamp', 'contato', 'status', 'grupo'])\n",
    "\n",
    "    for nFileNumber in range(1, nTotalFiles+1):\n",
    "\n",
    "        text_file = 'C:\\\\Users\\\\jandi\\\\Downloads\\\\drive-download-20210112T214747Z-001\\\\Conversa do WhatsApp com Intercessão Profética '+ str(nFileNumber) +'.txt'\n",
    "\n",
    "        # some regex to account for messages taking up multiple lines\n",
    "        pat = re.compile(r'^(\\d\\d\\/\\d\\d\\/\\d\\d\\d\\d.*?)(?=^^\\d\\d\\/\\d\\d\\/\\d\\d\\d\\d|\\Z)', re.S | re.M)\n",
    "        with open(text_file, encoding='utf8') as f:\n",
    "            data = [m.group(1).strip().replace('\\n', ' ') for m in pat.finditer(f.read())]\n",
    "\n",
    "        lContato = []; lDatas = []; lContatoStatus = []; lGrupo = []\n",
    "\n",
    "        for row in data:\n",
    "\n",
    "            # timestamp is before the first dash\n",
    "            lDatas.append(row.split(' - ')[0])\n",
    "\n",
    "            # sender is between am/pm, dash and colon\n",
    "            rowFone = row.split(' - ')[1]\n",
    "            try:\n",
    "                Fone = re.findall('[0-9]+', rowFone)\n",
    "                Fone = '+'+Fone[0]+' '+Fone[1]+' '+Fone[2]+'-'+Fone[3]\n",
    "                lContato.append(Fone)\n",
    "            except:\n",
    "                lContato.append('')\n",
    "\n",
    "            #ID do Grupo do Contato\n",
    "            #grupo.append(str(nFileNumber))\n",
    "\n",
    "            sContatoStatus = 'Saiu'\n",
    "            if 'entrou' in rowFone:\n",
    "                sContatoStatus = 'Cadastrado'\n",
    "            lContatoStatus.append(sContatoStatus)\n",
    "\n",
    "            # Grupo do contato\n",
    "            lGrupo.append(nFileNumber)\n",
    "\n",
    "        dfGrupo = pd.DataFrame(list(zip(lDatas, lContato, lContatoStatus, lGrupo)), columns=['timestamp', 'contato', 'status', 'grupo'])\n",
    "        dfGrupo['timestamp'] = pd.to_datetime(dfGrupo.timestamp, format='%d/%m/%Y %H:%M')\n",
    "\n",
    "        # remove events not associated with a sender\n",
    "        dfGrupo = dfGrupo[dfGrupo.contato != ''].reset_index(drop=True)\n",
    "\n",
    "        dfTotal = dfTotal.append(dfGrupo)\n",
    "\n",
    "    return dfTotal"
   ]
  },
  {
   "cell_type": "code",
   "execution_count": 122,
   "metadata": {},
   "outputs": [
    {
     "output_type": "execute_result",
     "data": {
      "text/plain": [
       "              timestamp            contato      status grupo\n",
       "0   2020-12-25 11:41:00  +55 21 97956-9055  Cadastrado     1\n",
       "1   2020-12-25 11:42:00   +55 35 9157-1445  Cadastrado     1\n",
       "2   2020-12-25 11:42:00  +55 11 98206-4275  Cadastrado     1\n",
       "3   2020-12-25 11:42:00  +55 17 98135-0947  Cadastrado     1\n",
       "4   2020-12-25 11:42:00   +55 47 9188-3757  Cadastrado     1\n",
       "..                  ...                ...         ...   ...\n",
       "182 2021-01-12 18:35:00   +55 35 8807-3708  Cadastrado    38\n",
       "183 2021-01-12 18:36:00   +55 64 9955-7929  Cadastrado    38\n",
       "184 2021-01-12 18:37:00   +55 88 9788-5440  Cadastrado    38\n",
       "185 2021-01-12 18:38:00   +55 32 9949-7969  Cadastrado    38\n",
       "186 2021-01-12 18:42:00  +55 11 94911-7646  Cadastrado    38\n",
       "\n",
       "[10040 rows x 4 columns]"
      ],
      "text/html": "<div>\n<style scoped>\n    .dataframe tbody tr th:only-of-type {\n        vertical-align: middle;\n    }\n\n    .dataframe tbody tr th {\n        vertical-align: top;\n    }\n\n    .dataframe thead th {\n        text-align: right;\n    }\n</style>\n<table border=\"1\" class=\"dataframe\">\n  <thead>\n    <tr style=\"text-align: right;\">\n      <th></th>\n      <th>timestamp</th>\n      <th>contato</th>\n      <th>status</th>\n      <th>grupo</th>\n    </tr>\n  </thead>\n  <tbody>\n    <tr>\n      <th>0</th>\n      <td>2020-12-25 11:41:00</td>\n      <td>+55 21 97956-9055</td>\n      <td>Cadastrado</td>\n      <td>1</td>\n    </tr>\n    <tr>\n      <th>1</th>\n      <td>2020-12-25 11:42:00</td>\n      <td>+55 35 9157-1445</td>\n      <td>Cadastrado</td>\n      <td>1</td>\n    </tr>\n    <tr>\n      <th>2</th>\n      <td>2020-12-25 11:42:00</td>\n      <td>+55 11 98206-4275</td>\n      <td>Cadastrado</td>\n      <td>1</td>\n    </tr>\n    <tr>\n      <th>3</th>\n      <td>2020-12-25 11:42:00</td>\n      <td>+55 17 98135-0947</td>\n      <td>Cadastrado</td>\n      <td>1</td>\n    </tr>\n    <tr>\n      <th>4</th>\n      <td>2020-12-25 11:42:00</td>\n      <td>+55 47 9188-3757</td>\n      <td>Cadastrado</td>\n      <td>1</td>\n    </tr>\n    <tr>\n      <th>...</th>\n      <td>...</td>\n      <td>...</td>\n      <td>...</td>\n      <td>...</td>\n    </tr>\n    <tr>\n      <th>182</th>\n      <td>2021-01-12 18:35:00</td>\n      <td>+55 35 8807-3708</td>\n      <td>Cadastrado</td>\n      <td>38</td>\n    </tr>\n    <tr>\n      <th>183</th>\n      <td>2021-01-12 18:36:00</td>\n      <td>+55 64 9955-7929</td>\n      <td>Cadastrado</td>\n      <td>38</td>\n    </tr>\n    <tr>\n      <th>184</th>\n      <td>2021-01-12 18:37:00</td>\n      <td>+55 88 9788-5440</td>\n      <td>Cadastrado</td>\n      <td>38</td>\n    </tr>\n    <tr>\n      <th>185</th>\n      <td>2021-01-12 18:38:00</td>\n      <td>+55 32 9949-7969</td>\n      <td>Cadastrado</td>\n      <td>38</td>\n    </tr>\n    <tr>\n      <th>186</th>\n      <td>2021-01-12 18:42:00</td>\n      <td>+55 11 94911-7646</td>\n      <td>Cadastrado</td>\n      <td>38</td>\n    </tr>\n  </tbody>\n</table>\n<p>10040 rows × 4 columns</p>\n</div>"
     },
     "metadata": {},
     "execution_count": 122
    }
   ],
   "source": [
    "df = parse_file(45)\n",
    "df"
   ]
  },
  {
   "cell_type": "code",
   "execution_count": 133,
   "metadata": {},
   "outputs": [
    {
     "output_type": "execute_result",
     "data": {
      "text/plain": [
       "            timestamp  grupo\n",
       "status                      \n",
       "Cadastrado       8153   8153\n",
       "Saiu             1887   1887"
      ],
      "text/html": "<div>\n<style scoped>\n    .dataframe tbody tr th:only-of-type {\n        vertical-align: middle;\n    }\n\n    .dataframe tbody tr th {\n        vertical-align: top;\n    }\n\n    .dataframe thead th {\n        text-align: right;\n    }\n</style>\n<table border=\"1\" class=\"dataframe\">\n  <thead>\n    <tr style=\"text-align: right;\">\n      <th></th>\n      <th>timestamp</th>\n      <th>grupo</th>\n    </tr>\n    <tr>\n      <th>status</th>\n      <th></th>\n      <th></th>\n    </tr>\n  </thead>\n  <tbody>\n    <tr>\n      <th>Cadastrado</th>\n      <td>8153</td>\n      <td>8153</td>\n    </tr>\n    <tr>\n      <th>Saiu</th>\n      <td>1887</td>\n      <td>1887</td>\n    </tr>\n  </tbody>\n</table>\n</div>"
     },
     "metadata": {},
     "execution_count": 133
    }
   ],
   "source": [
    "df.set_index([\"status\", \"contato\"]).count(level=\"status\")"
   ]
  },
  {
   "cell_type": "code",
   "execution_count": 134,
   "metadata": {},
   "outputs": [
    {
     "output_type": "execute_result",
     "data": {
      "text/plain": [
       "6266"
      ]
     },
     "metadata": {},
     "execution_count": 134
    }
   ],
   "source": [
    "8153-1887"
   ]
  },
  {
   "cell_type": "code",
   "execution_count": 150,
   "metadata": {},
   "outputs": [
    {
     "output_type": "stream",
     "name": "stdout",
     "text": [
      "<class 'pandas.core.frame.DataFrame'>\nRangeIndex: 1756 entries, 0 to 1755\nData columns (total 1 columns):\n #   Column   Non-Null Count  Dtype \n---  ------   --------------  ----- \n 0   contato  1756 non-null   object\ndtypes: object(1)\nmemory usage: 13.8+ KB\n"
     ]
    }
   ],
   "source": [
    "dfSairam = df.query(\"status == 'Saiu'\")\n",
    "dfSairam = pd.DataFrame(dfSairam.contato.unique(), columns=['contato'])\n",
    "dfSairam.info()"
   ]
  },
  {
   "cell_type": "code",
   "execution_count": 125,
   "metadata": {},
   "outputs": [
    {
     "output_type": "stream",
     "name": "stdout",
     "text": [
      "<class 'pandas.core.frame.DataFrame'>\nInt64Index: 8153 entries, 0 to 186\nData columns (total 4 columns):\n #   Column     Non-Null Count  Dtype         \n---  ------     --------------  -----         \n 0   timestamp  8153 non-null   datetime64[ns]\n 1   contato    8153 non-null   object        \n 2   status     8153 non-null   object        \n 3   grupo      8153 non-null   object        \ndtypes: datetime64[ns](1), object(3)\nmemory usage: 318.5+ KB\n"
     ]
    }
   ],
   "source": [
    "dfCadastrados = df.query(\"status == 'Cadastrado'\")\n",
    "dfCadastrados.info()"
   ]
  },
  {
   "cell_type": "code",
   "execution_count": 169,
   "metadata": {},
   "outputs": [
    {
     "output_type": "execute_result",
     "data": {
      "text/plain": [
       "                contato\n",
       "0     +55 21 97956-9055\n",
       "1      +55 35 9157-1445\n",
       "2     +55 11 98206-4275\n",
       "3     +55 17 98135-0947\n",
       "4      +55 47 9188-3757\n",
       "...                 ...\n",
       "7860   +55 35 8807-3708\n",
       "7861   +55 64 9955-7929\n",
       "7862   +55 88 9788-5440\n",
       "7863   +55 32 9949-7969\n",
       "7864  +55 11 94911-7646\n",
       "\n",
       "[7865 rows x 1 columns]"
      ],
      "text/html": "<div>\n<style scoped>\n    .dataframe tbody tr th:only-of-type {\n        vertical-align: middle;\n    }\n\n    .dataframe tbody tr th {\n        vertical-align: top;\n    }\n\n    .dataframe thead th {\n        text-align: right;\n    }\n</style>\n<table border=\"1\" class=\"dataframe\">\n  <thead>\n    <tr style=\"text-align: right;\">\n      <th></th>\n      <th>contato</th>\n    </tr>\n  </thead>\n  <tbody>\n    <tr>\n      <th>0</th>\n      <td>+55 21 97956-9055</td>\n    </tr>\n    <tr>\n      <th>1</th>\n      <td>+55 35 9157-1445</td>\n    </tr>\n    <tr>\n      <th>2</th>\n      <td>+55 11 98206-4275</td>\n    </tr>\n    <tr>\n      <th>3</th>\n      <td>+55 17 98135-0947</td>\n    </tr>\n    <tr>\n      <th>4</th>\n      <td>+55 47 9188-3757</td>\n    </tr>\n    <tr>\n      <th>...</th>\n      <td>...</td>\n    </tr>\n    <tr>\n      <th>7860</th>\n      <td>+55 35 8807-3708</td>\n    </tr>\n    <tr>\n      <th>7861</th>\n      <td>+55 64 9955-7929</td>\n    </tr>\n    <tr>\n      <th>7862</th>\n      <td>+55 88 9788-5440</td>\n    </tr>\n    <tr>\n      <th>7863</th>\n      <td>+55 32 9949-7969</td>\n    </tr>\n    <tr>\n      <th>7864</th>\n      <td>+55 11 94911-7646</td>\n    </tr>\n  </tbody>\n</table>\n<p>7865 rows × 1 columns</p>\n</div>"
     },
     "metadata": {},
     "execution_count": 169
    }
   ],
   "source": [
    "dfCadastroUnico = pd.DataFrame(dfCadastrados.contato.unique(), columns=['contato'])\n",
    "dfCadastroUnico"
   ]
  },
  {
   "cell_type": "code",
   "execution_count": 173,
   "metadata": {},
   "outputs": [],
   "source": [
    "dfContatosAtivos = dfCadastroUnico[~dfCadastroUnico['contato'].isin(dfSairam['contato'])]"
   ]
  },
  {
   "cell_type": "code",
   "execution_count": 175,
   "metadata": {},
   "outputs": [
    {
     "output_type": "execute_result",
     "data": {
      "text/plain": [
       "contato    6112\n",
       "dtype: int64"
      ]
     },
     "metadata": {},
     "execution_count": 175
    }
   ],
   "source": [
    "dfContatosAtivos.count()"
   ]
  },
  {
   "cell_type": "code",
   "execution_count": 178,
   "metadata": {},
   "outputs": [],
   "source": [
    "with pd.ExcelWriter('contatos.xlsx') as writer: \n",
    "     dfContatosAtivos['contato'].to_excel(writer, sheet_name='Ativos')\n",
    "     dfSairam['contato'].to_excel(writer, sheet_name='Desistentes')"
   ]
  },
  {
   "cell_type": "code",
   "execution_count": null,
   "metadata": {},
   "outputs": [],
   "source": []
  }
 ]
}