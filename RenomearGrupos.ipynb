{
 "metadata": {
  "language_info": {
   "codemirror_mode": {
    "name": "ipython",
    "version": 3
   },
   "file_extension": ".py",
   "mimetype": "text/x-python",
   "name": "python",
   "nbconvert_exporter": "python",
   "pygments_lexer": "ipython3",
   "version": "3.9.1-final"
  },
  "orig_nbformat": 2,
  "kernelspec": {
   "name": "python3",
   "display_name": "Python 3.9.1 64-bit ('wappenv')",
   "metadata": {
    "interpreter": {
     "hash": "fd16e3b720838474476eba5ef907c6c93099cff6aa24ea38ef1b65f026d23308"
    }
   }
  }
 },
 "nbformat": 4,
 "nbformat_minor": 2,
 "cells": [
  {
   "cell_type": "code",
   "execution_count": 64,
   "metadata": {},
   "outputs": [],
   "source": [
    "import pandas as pd\n",
    "import time\n",
    "from selenium import webdriver\n",
    "from selenium.webdriver.common.keys import Keys\n",
    "from datetime import datetime\n",
    "#from selenium.webdriver.chrome.options import Options\n",
    "from selenium.webdriver.support.ui import WebDriverWait\n",
    "from selenium.webdriver.support import expected_conditions as EC\n",
    "from selenium.webdriver.common.by import By\n"
   ]
  },
  {
   "cell_type": "code",
   "execution_count": 65,
   "metadata": {},
   "outputs": [],
   "source": [
    "chrome_options = webdriver.ChromeOptions()\n",
    "chrome_options.add_argument(\"--start-maximized\")\n",
    "chrome_options.add_experimental_option(\"detach\", True)"
   ]
  },
  {
   "cell_type": "code",
   "execution_count": 66,
   "metadata": {},
   "outputs": [],
   "source": [
    "chrome = webdriver.Chrome(options=chrome_options)  # Optional argument, if not specified will search path."
   ]
  },
  {
   "cell_type": "code",
   "execution_count": 67,
   "metadata": {},
   "outputs": [],
   "source": [
    "chrome.get(\"https://web.whatsapp.com\")"
   ]
  },
  {
   "cell_type": "code",
   "execution_count": 68,
   "metadata": {},
   "outputs": [],
   "source": [
    "def AcharElemento(pGrupo, pAcao=''):\n",
    "    sElem = ''\n",
    "    if pAcao == 'click':\n",
    "        try:\n",
    "            sElem = chrome.find_element_by_xpath(pGrupo)\n",
    "            sElem.click()\n",
    "        except:\n",
    "            WebDriverWait(chrome, 10).until(\n",
    "                EC.presence_of_element_located((By.XPATH, pGrupo))\n",
    "            )\n",
    "            sElem = chrome.find_element_by_xpath(pGrupo)\n",
    "            sElem.click()\n",
    "        return sElem\n",
    "\n",
    "    if pAcao == '':\n",
    "        try:\n",
    "            sElem = chrome.find_element_by_xpath(pGrupo)\n",
    "        except:\n",
    "            WebDriverWait(chrome, 10).until(\n",
    "                EC.presence_of_element_located((By.XPATH, pGrupo))\n",
    "            )\n",
    "            sElem = chrome.find_element_by_xpath(pGrupo)\n",
    "        return sElem\n",
    "\n",
    "    if pAcao == 'text':\n",
    "        sText = ''\n",
    "        WebDriverWait(chrome, 10).until(\n",
    "            EC.presence_of_element_located((By.XPATH, pGrupo))\n",
    "        )\n",
    "        sText = chrome.find_element_by_xpath(pGrupo)\n",
    "        return sText.text\n",
    "    \n",
    "    return"
   ]
  },
  {
   "cell_type": "code",
   "execution_count": 66,
   "metadata": {},
   "outputs": [],
   "source": [
    "#listaGrupos = ['Inscrições Encerradas 57',  'Inscrições Encerradas 58', 'Inscrições Encerradas 59', 'Inscrições Encerradas 60']\n",
    "#lNovosNomes = ['Batalha Espiritual #06', 'Batalha Espiritual #09', 'Batalha Espiritual #12', 'Batalha Espiritual #15']"
   ]
  },
  {
   "cell_type": "code",
   "execution_count": 70,
   "metadata": {},
   "outputs": [
    {
     "output_type": "execute_result",
     "data": {
      "text/plain": [
       "                       Atual                     Novo\n",
       "0    Fernando Guillen VIP 01   Batalha Espiritual #03\n",
       "1    Fernando Guillen VIP 02   Batalha Espiritual #06\n",
       "2    Fernando Guillen VIP 03   Batalha Espiritual #09\n",
       "3    Fernando Guillen VIP 04   Batalha Espiritual #12\n",
       "4    Fernando Guillen VIP 05   Batalha Espiritual #15\n",
       "..                       ...                      ...\n",
       "70  Inscrições Encerradas 56  Batalha Espiritual #213\n",
       "71  Inscrições Encerradas 57  Batalha Espiritual #216\n",
       "72  Inscrições Encerradas 58  Batalha Espiritual #219\n",
       "73  Inscrições Encerradas 59  Batalha Espiritual #222\n",
       "74  Inscrições Encerradas 60  Batalha Espiritual #225\n",
       "\n",
       "[75 rows x 2 columns]"
      ],
      "text/html": "<div>\n<style scoped>\n    .dataframe tbody tr th:only-of-type {\n        vertical-align: middle;\n    }\n\n    .dataframe tbody tr th {\n        vertical-align: top;\n    }\n\n    .dataframe thead th {\n        text-align: right;\n    }\n</style>\n<table border=\"1\" class=\"dataframe\">\n  <thead>\n    <tr style=\"text-align: right;\">\n      <th></th>\n      <th>Atual</th>\n      <th>Novo</th>\n    </tr>\n  </thead>\n  <tbody>\n    <tr>\n      <th>0</th>\n      <td>Fernando Guillen VIP 01</td>\n      <td>Batalha Espiritual #03</td>\n    </tr>\n    <tr>\n      <th>1</th>\n      <td>Fernando Guillen VIP 02</td>\n      <td>Batalha Espiritual #06</td>\n    </tr>\n    <tr>\n      <th>2</th>\n      <td>Fernando Guillen VIP 03</td>\n      <td>Batalha Espiritual #09</td>\n    </tr>\n    <tr>\n      <th>3</th>\n      <td>Fernando Guillen VIP 04</td>\n      <td>Batalha Espiritual #12</td>\n    </tr>\n    <tr>\n      <th>4</th>\n      <td>Fernando Guillen VIP 05</td>\n      <td>Batalha Espiritual #15</td>\n    </tr>\n    <tr>\n      <th>...</th>\n      <td>...</td>\n      <td>...</td>\n    </tr>\n    <tr>\n      <th>70</th>\n      <td>Inscrições Encerradas 56</td>\n      <td>Batalha Espiritual #213</td>\n    </tr>\n    <tr>\n      <th>71</th>\n      <td>Inscrições Encerradas 57</td>\n      <td>Batalha Espiritual #216</td>\n    </tr>\n    <tr>\n      <th>72</th>\n      <td>Inscrições Encerradas 58</td>\n      <td>Batalha Espiritual #219</td>\n    </tr>\n    <tr>\n      <th>73</th>\n      <td>Inscrições Encerradas 59</td>\n      <td>Batalha Espiritual #222</td>\n    </tr>\n    <tr>\n      <th>74</th>\n      <td>Inscrições Encerradas 60</td>\n      <td>Batalha Espiritual #225</td>\n    </tr>\n  </tbody>\n</table>\n<p>75 rows × 2 columns</p>\n</div>"
     },
     "metadata": {},
     "execution_count": 70
    }
   ],
   "source": [
    "dfGrupos = pd.read_csv('C:\\\\Users\\\\jandi\\\\Desktop\\\\Projeto Batalha Espiritual\\\\Lista de Grupos de WhatsApp - Página1.csv')\n",
    "dfGrupos"
   ]
  },
  {
   "source": [
    "# Renomeando os Grupos"
   ],
   "cell_type": "markdown",
   "metadata": {}
  },
  {
   "cell_type": "code",
   "execution_count": 42,
   "metadata": {},
   "outputs": [
    {
     "output_type": "stream",
     "name": "stdout",
     "text": [
      "Grupo 45 alterado.\n",
      "Grupo 46 alterado.\n",
      "Grupo 47 alterado.\n",
      "Grupo 48 alterado.\n",
      "Grupo 49 alterado.\n",
      "Grupo 50 alterado.\n",
      "Grupo 51 alterado.\n",
      "Grupo 52 alterado.\n",
      "Grupo 53 alterado.\n",
      "Grupo 54 alterado.\n",
      "Grupo 55 alterado.\n",
      "Grupo 56 alterado.\n",
      "Grupo 57 alterado.\n",
      "Grupo 58 alterado.\n",
      "Grupo 59 alterado.\n",
      "Grupo 60 alterado.\n",
      "Grupo 61 alterado.\n",
      "Grupo 62 alterado.\n",
      "Grupo 63 alterado.\n",
      "Grupo 64 alterado.\n",
      "Grupo 65 alterado.\n",
      "Grupo 66 alterado.\n",
      "Grupo 67 alterado.\n",
      "Grupo 68 alterado.\n",
      "Grupo 69 alterado.\n",
      "Grupo 70 alterado.\n",
      "Grupo 71 alterado.\n",
      "Grupo 72 alterado.\n",
      "Grupo 73 alterado.\n"
     ]
    }
   ],
   "source": [
    "for index, row in dfGrupos.iterrows():\n",
    "    \n",
    "    # Abrir grupo na lista de contatos\n",
    "    search_box = AcharElemento('/html/body/div[1]/div/div/div[3]/div/div[1]/div/label/div/div[2]', 'click')\n",
    "    search_box.clear() # Limpa a caixa de texto\n",
    "    search_box.send_keys(row.Atual) # Digita o nome do grupo\n",
    "    time.sleep(0.2) # Espera\n",
    "\n",
    "    # Abrir grupo na lista de contatos\n",
    "    AcharElemento('//*[@title=\"' + row.Atual + '\"]','click')\n",
    "    time.sleep(0.2)\n",
    "\n",
    "    # Abrir aba com dados do grupo\n",
    "    title_box = AcharElemento('//*[@id=\"main\"]/header/div[2]/div[1]/div/span', 'click')\n",
    "    time.sleep(0.5)\n",
    "\n",
    "    # Abrir edição do nome do grupo\n",
    "    title_box = AcharElemento('/html/body/div[1]/div/div/div[2]/div[3]/span/div/span/div/div/div[1]/div[1]/div[2]/div[1]/span[2]/div/span', 'click')\n",
    "    time.sleep(2)\n",
    "\n",
    "    # Seleciona a caixa de texto do titulo do grupo\n",
    "    title_box = AcharElemento('/html/body/div[1]/div/div/div[2]/div[3]/span/div/span/div/div/div[1]/div[1]/div[2]/div[1]/div/div[2]', 'click')\n",
    "\n",
    "    # Limpa a caixa \n",
    "    title_box.clear()\n",
    "\n",
    "    #Digita o novo nome do grupo\n",
    "    title_box.send_keys(row.Novo + Keys.ENTER)\n",
    "\n",
    "    print('Grupo ' + str(index) + ' alterado.')"
   ]
  },
  {
   "source": [
    "# Mudando a descrição dos Grupos"
   ],
   "cell_type": "markdown",
   "metadata": {}
  },
  {
   "cell_type": "code",
   "execution_count": 63,
   "metadata": {},
   "outputs": [
    {
     "output_type": "stream",
     "name": "stdout",
     "text": [
      "Grupo 64 com descrição atualizada\n",
      "Grupo 65 com descrição atualizada\n",
      "Grupo 66 com descrição atualizada\n",
      "Grupo 67 com descrição atualizada\n",
      "Grupo 68 com descrição atualizada\n",
      "Grupo 69 com descrição atualizada\n",
      "Grupo 70 com descrição atualizada\n",
      "Grupo 71 com descrição atualizada\n",
      "Grupo 72 com descrição atualizada\n",
      "Grupo 73 com descrição atualizada\n"
     ]
    }
   ],
   "source": [
    "for index, row in dfGrupos.iterrows():\n",
    "    #Posicionar no box de busca\n",
    "    search_box = AcharElemento('/html/body/div[1]/div/div/div[3]/div/div[1]/div/label/div/div[2]')\n",
    "    search_box.clear() # Limpa a caixa de texto\n",
    "    search_box.send_keys(row.Novo)\n",
    "    time.sleep(0.2)\n",
    "\n",
    "    # Abrir grupo na lista de contatos\n",
    "    AcharElemento('//*[@title=\"' + row.Novo + '\"]','click')\n",
    "    time.sleep(0.2)\n",
    "\n",
    "    # Abrir aba com dados do grupo\n",
    "    AcharElemento('//*[@id=\"main\"]/header/div[2]/div[1]/div/span', 'click')\n",
    "    time.sleep(0.5)\n",
    "\n",
    "    # Abrir edição da descrição do grupo\n",
    "    AcharElemento('/html/body/div[1]/div/div/div[2]/div[3]/span/div/span/div/div/div[1]/div[2]/div[2]/div/div/span[2]/div/span', 'click')\n",
    "    time.sleep(2)\n",
    "\n",
    "    # Seleciona a caixa de texto do titulo do grupo\n",
    "    desc_box = AcharElemento('/html/body/div[1]/div/div/div[2]/div[3]/span/div/span/div/div/div[1]/div[2]/div[2]/div/div[1]/div/div[2]', 'click')\n",
    "\n",
    "    # Limpa a caixa \n",
    "    desc_box.clear()\n",
    "\n",
    "    sDescricao = '''O grupo VIP Vencendo as Batalhas Espirituais tem o propósito de disponibilizar a condição ÚNICA e EXCLUSIVA para você se inscrever na condição especial da imersão presencial.\n",
    "\n",
    "Atenção para o cronograma:\n",
    "- 10/02 às 9h: A equipe do AP. Fernando Guillen informará qual é a condição especial.\n",
    "- 11/02 às 9h: Abriremos as inscrições, informando o link de compra, que ficará disponível até as 21h ou até que as vagas disponíveis se esgotem.\n",
    "\n",
    "Fique atento as notificações do grupo\n",
    "\n",
    "Equipe AP. Fernando Guillen\n",
    "'''\n",
    "\n",
    "    for sLinha in sDescricao.split('\\n'):\n",
    "        desc_box.send_keys(sLinha, Keys.SHIFT, Keys.ENTER) # Shift ENTER permite a quebra de linha sem enviar a mensagem\n",
    "    desc_box.send_keys(Keys.ENTER) # Ultimo enter envia a mensagem\n",
    "\n",
    "    print('Grupo ' + str(index) + ' com descrição atualizada')\n",
    "\n",
    "    time.sleep(1)"
   ]
  },
  {
   "cell_type": "code",
   "execution_count": null,
   "metadata": {},
   "outputs": [],
   "source": []
  }
 ]
}